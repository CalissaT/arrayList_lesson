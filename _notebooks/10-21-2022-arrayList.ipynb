{
 "cells": [
  {
   "cell_type": "markdown",
   "metadata": {},
   "source": [
    "# Array List Lesson\n",
    "\n",
    "- toc: false\n",
    "- badges: true\n",
    "- comments: true\n",
    "- author: Calissa\n",
    "- categories: [java, labs]\n",
    "- image: images/arrayList.jpeg\n",
    "\n",
    "java notebook"
   ]
  },
  {
   "cell_type": "markdown",
   "metadata": {},
   "source": [
    "### Lesson Purpose and Objectives\n",
    "\n",
    "Learn about the structure and functions of an arrayList and go over the key College Board concepts for arrayLists\n",
    "\n",
    "ArrayLists are only 2.5%-7.5% but have many concepts from other units and are a good data structure to know. Also, the 3rd question of the FRQ is based on ArrayLists\n"
   ]
  },
  {
   "cell_type": "markdown",
   "metadata": {},
   "source": [
    "### 7.1 Introduction to ArrayList\n",
    "\n",
    "| Arrays | ArrayLists |\n",
    "| -----  | ---------- |\n",
    "| Static (fixed size) | Dynamic (can change size) | \n",
    "| Fundamental java feature | Part of a framework. Someone was nice and designed this with the behind the scenes being arrays |\n",
    "| An object with no methods | A class with many methods |\n",
    "| Not as flexible | Designed to be more flexible |\n",
    "| Can store more primitive data | Not designed to store primitives, they store object references| \n",
    "| | Slightly slower than Arrays |\n",
    "| | Can only be used with an import statement |\n",
    "\n",
    "Real Life Array Example:\n",
    "You always have to have five players on the court\n",
    "\n",
    "Real Life ArrayList Example:\n",
    "In dodgeball, the number of people in the game is changing based on who comes in or gets out\n",
    "\n",
    "Primitive Data Types:\n",
    "- boolean \n",
    "- char\n",
    "- double\n",
    "- int\n",
    "\n",
    "Wrapper Class Data Types\n",
    "(Store the primitive values as objects)\n",
    "- Boolean\n",
    "- Character\n",
    "- Double\n",
    "- Integer"
   ]
  },
  {
   "cell_type": "code",
   "execution_count": 1,
   "metadata": {},
   "outputs": [],
   "source": [
    "import java.util.ArrayList; //you must import the java.util package\n",
    "\n",
    "// Instantiating: ArrayList<DataType> variableName = new ArrayList<>(n);\n",
    "//DataType must be nonprimitive data type\n",
    "\n",
    "public class introArrayList {\n",
    "    public static void main (String[] args) {\n",
    "        ArrayList<Integer> e1 = new ArrayList<Integer>(); //empty\n",
    "        ArrayList<String> e2 = new ArrayList<String>(5); //5 elements\n",
    "        ArrayList<Dogs> e3 = new ArrayList<Dogs>(); //you can store whatever objects you want\n",
    "    }\n",
    "}"
   ]
  },
  {
   "cell_type": "markdown",
   "metadata": {},
   "source": [
    "### 7.2 ArrayList Methods\n",
    "\n",
    "There are a lot of cool methods that you can use with arrayLists, but here are the ones College Board wants you to know for 7.2:\n",
    "\n",
    "size();\n",
    "- Returns the number of elements in the list\n",
    "\n",
    "add(obj);\n",
    "- Adds element at the end\n",
    "\n",
    "add(index, object);\n",
    "- Adds element at specific index\n",
    "\n",
    "remove(index);\n",
    "- Removes element from specific index\n",
    "\n",
    "set(index, object);\n",
    "- Replaces element at index with new object\n",
    "\n",
    "get(index);\n",
    "- Returns element at index\n"
   ]
  },
  {
   "cell_type": "code",
   "execution_count": 17,
   "metadata": {},
   "outputs": [
    {
     "name": "stdout",
     "output_type": "stream",
     "text": [
      "There are 3 in the ArrayList\n",
      "There are 3 in the ArrayList\n",
      "There are now 4 dogs in the ArrayList\n",
      "My dog is named Noodle\n"
     ]
    }
   ],
   "source": [
    "import java.util.ArrayList; \n",
    "\n",
    "public class methodsArrayList {\n",
    "    public static void main (String[] args) {\n",
    "        ArrayList<String> dogs = new ArrayList<String>(Arrays.asList(\"Sparky\", \"Duke\", \"Noodle\"));\n",
    "        ArrayList<String> dogs2 = new ArrayList<>(Arrays.asList(\"Sparky\", \"Duke\", \"Noodle\"));\n",
    "        System.out.println(\"There are \" + dogs.size() + \" in the ArrayList\"); \n",
    "        System.out.println(\"There are \" + dogs2.size() + \" in the ArrayList\");\n",
    "        \n",
    "        //objects you add must be of the same data type\n",
    "        dogs.add(\"Peanut\");\n",
    "        System.out.println(\"There are now \" + dogs.size() + \" dogs in the ArrayList\"); \n",
    "\n",
    "        String myDog = dogs.get(2);\n",
    "        System.out.println(\"My dog is named \" + myDog);\n",
    "    }\n",
    "}\n",
    "\n",
    "//Note: you don't need to declare <String> again after new ArrayList\n",
    "\n",
    "methodsArrayList.main(null);"
   ]
  },
  {
   "cell_type": "code",
   "execution_count": 23,
   "metadata": {},
   "outputs": [
    {
     "name": "stdout",
     "output_type": "stream",
     "text": [
      "Hello\n"
     ]
    }
   ],
   "source": [
    "//Hmmmm... seems suspect\n",
    "\n",
    "import java.util.ArrayList; \n",
    "\n",
    "public class example {\n",
    "    public static void main (String[] args) {\n",
    "        ArrayList<Boolean> questions = new ArrayList<>();\n",
    "        questions.add(true);\n",
    "        questions.add(false);\n",
    "        myMethod(questions);\n",
    "    }\n",
    "    public static void myMethod(ArrayList arr)\n",
    "    {\n",
    "        if (arr.size()>0)\n",
    "        {\n",
    "            arr.set(0,\"Hello\"); //String with boolean??? Uh oh!\n",
    "            System.out.println(arr.get(0));\n",
    "\n",
    "        }\n",
    "    }\n",
    "}\n",
    "\n",
    "example.main(null);"
   ]
  },
  {
   "cell_type": "code",
   "execution_count": 24,
   "metadata": {},
   "outputs": [
    {
     "ename": "CompilationException",
     "evalue": "",
     "output_type": "error",
     "traceback": [
      "\u001b[1m\u001b[30m|   \u001b[1m\u001b[30m            arr.set(0,\u001b[0m\u001b[1m\u001b[30m\u001b[41m\"Hello\"\u001b[0m\u001b[1m\u001b[30m); //String with boolean??? Uh oh!\u001b[0m",
      "\u001b[1m\u001b[31mincompatible types: java.lang.String cannot be converted to java.lang.Boolean\u001b[0m",
      ""
     ]
    }
   ],
   "source": [
    "import java.util.ArrayList; \n",
    "\n",
    "public class example {\n",
    "    public static void main (String[] args) {\n",
    "        ArrayList<Boolean> questions = new ArrayList<>();\n",
    "        questions.add(true);\n",
    "        questions.add(false);\n",
    "        myMethod(questions);\n",
    "    }\n",
    "    public static void myMethod(ArrayList<Boolean> arr)\n",
    "    {\n",
    "        if (arr.size()>0)\n",
    "        {\n",
    "            arr.set(0,\"Hello\"); //String with boolean??? Uh oh!\n",
    "            System.out.println(arr.get(0));\n",
    "\n",
    "        }\n",
    "    }\n",
    "}\n",
    "\n",
    "example.main(null);\n",
    "\n",
    "//Make sure to specify data type so the compiler is more helpful and it avoids confusion\n",
    "//This also applies for returning and arrayList as well"
   ]
  },
  {
   "cell_type": "code",
   "execution_count": 25,
   "metadata": {},
   "outputs": [],
   "source": [
    "//Returning an ArrayList\n",
    "\n",
    "public static ArrayList methodName (ArrayList arr){\n",
    "    return arr;\n",
    "}"
   ]
  },
  {
   "cell_type": "code",
   "execution_count": 26,
   "metadata": {},
   "outputs": [],
   "source": [
    "// HACK!!!!\n",
    "// Create an arrayList and use one of the cool methods for it\n",
    "\n",
    "import java.util.ArrayList; \n",
    "\n",
    "public class hack1 {\n",
    "    public static void main (String[] args) {\n",
    "       \n",
    "    }\n",
    "}\n",
    "\n",
    "hack1.main(null);"
   ]
  },
  {
   "cell_type": "markdown",
   "metadata": {},
   "source": [
    "### 7.3 Traversing ArrayLists"
   ]
  },
  {
   "cell_type": "code",
   "execution_count": null,
   "metadata": {},
   "outputs": [],
   "source": []
  },
  {
   "cell_type": "markdown",
   "metadata": {},
   "source": [
    "### 7.4 Developing Algorithms Using ArrayLists"
   ]
  },
  {
   "cell_type": "code",
   "execution_count": null,
   "metadata": {},
   "outputs": [],
   "source": []
  },
  {
   "cell_type": "markdown",
   "metadata": {},
   "source": [
    "### 7.5 Searching"
   ]
  },
  {
   "cell_type": "markdown",
   "metadata": {},
   "source": [
    "- Often times we need to find locate data inside linear structures\n",
    "Normally we would use for loops in order to specify each element. one at a time, and do not need to track the index after execution."
   ]
  },
  {
   "cell_type": "code",
   "execution_count": null,
   "metadata": {},
   "outputs": [],
   "source": [
    "for ( int index = 0; index < items.size(); index++ ){ //forward searching\n",
    "    \n",
    "    if ( items.get(index) == num ){\n",
    "        return index;\n",
    "    }\n",
    "\n",
    "}"
   ]
  },
  {
   "cell_type": "markdown",
   "metadata": {},
   "source": [
    "### 7.6 Sorting"
   ]
  },
  {
   "cell_type": "code",
   "execution_count": null,
   "metadata": {},
   "outputs": [],
   "source": []
  },
  {
   "cell_type": "markdown",
   "metadata": {},
   "source": [
    "### 7.7 Ethical Issues Around Data Collection"
   ]
  },
  {
   "cell_type": "code",
   "execution_count": null,
   "metadata": {},
   "outputs": [],
   "source": []
  },
  {
   "cell_type": "markdown",
   "metadata": {},
   "source": [
    "### Homework\n",
    "\n",
    "[2018 FRQ Question 2](https://secure-media.collegeboard.org/apc/ap18-frq-computer-science-a.pdf)\n",
    "\n",
    "Submit your link [here](https://docs.google.com/forms/d/e/1FAIpQLSepSr1MutCV_y2ZfyFDY7m0R_Nak3GdWazQWqvpGwP3-Ycg_Q/viewform?usp=sf_link)"
   ]
  }
 ],
 "metadata": {
  "kernelspec": {
   "display_name": "Java",
   "language": "java",
   "name": "java"
  },
  "language_info": {
   "codemirror_mode": "java",
   "file_extension": ".jshell",
   "mimetype": "text/x-java-source",
   "name": "java",
   "pygments_lexer": "java",
   "version": "11.0.16.1+0"
  },
  "orig_nbformat": 4
 },
 "nbformat": 4,
 "nbformat_minor": 2
}
