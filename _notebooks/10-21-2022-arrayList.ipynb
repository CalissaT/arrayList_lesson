{
 "cells": [
  {
   "cell_type": "markdown",
   "metadata": {},
   "source": [
    "# Array List Lesson\n",
    "\n",
    "- toc: false\n",
    "- badges: true\n",
    "- comments: true\n",
    "- author: Calissa\n",
    "- categories: [java, labs]\n",
    "- image: images/arrayList.jpeg\n",
    "\n",
    "java notebook"
   ]
  },
  {
   "cell_type": "markdown",
   "metadata": {},
   "source": [
    "### Lesson Purpose and Objectives\n",
    "\n",
    "Learn about the structure and functions of an arrayList and go over the key College Board concepts for arrayLists\n",
    "\n",
    "ArrayLists are only 2.5%-7.5% but have many concepts from other units and are a good data structure to know. "
   ]
  },
  {
   "cell_type": "markdown",
   "metadata": {},
   "source": [
    "### 7.1 Introduction to ArrayList\n",
    "\n",
    "| Arrays | ArrayLists |\n",
    "| -----  | ---------- |\n",
    "| Static (fixed size) | Dynamic (can change size) | \n",
    "| Fundamental java feature | Part of a framework. Someone was nice and designed this with the behind the scenes being arrays |\n",
    "| An object with no methods | A class with many methods |\n",
    "| Not as flexible | Designed to be more flexible |\n",
    "| Can store more primitive data | Not designed to store primitives, they store object references| \n",
    "| | Slightly slower than Arrays |\n",
    "| | Can only be used with an import statement |\n",
    "\n",
    "Real Life Array Example:\n",
    "You always have to have five players on the court\n",
    "\n",
    "Real Life ArrayList Example:\n",
    "In dodgeball, the number of people in the game is changing based on who comes in or gets out\n",
    "\n",
    "Primitive Data Types:\n",
    "- boolean \n",
    "- char\n",
    "- double\n",
    "- int\n",
    "\n",
    "Wrapper Class Data Types\n",
    "(Store the primitive values as objects)\n",
    "- Boolean\n",
    "- Character\n",
    "- Double\n",
    "- Integer"
   ]
  },
  {
   "cell_type": "code",
   "execution_count": 1,
   "metadata": {
    "vscode": {
     "languageId": "java"
    }
   },
   "outputs": [],
   "source": [
    "import java.util.ArrayList; //you must import the java.util package\n",
    "\n",
    "// Instantiating: ArrayList<DataType> variableName = new ArrayList<>(n);\n",
    "//DataType must be nonprimitive data type\n",
    "\n",
    "public class introArrayList {\n",
    "    public static void main (String[] args) {\n",
    "        ArrayList<Integer> e1 = new ArrayList<Integer>(); //empty\n",
    "        ArrayList<String> e2 = new ArrayList<String>(5); //5 elements\n",
    "        ArrayList<Dogs> e3 = new ArrayList<Dogs>(); //you can store whatever objects you want\n",
    "    }\n",
    "}"
   ]
  },
  {
   "cell_type": "markdown",
   "metadata": {},
   "source": [
    "### 7.2 ArrayList Methods"
   ]
  },
  {
   "cell_type": "code",
   "execution_count": null,
   "metadata": {
    "vscode": {
     "languageId": "java"
    }
   },
   "outputs": [],
   "source": []
  },
  {
   "cell_type": "markdown",
   "metadata": {},
   "source": [
    "### 7.3 Traversing ArrayLists"
   ]
  },
  {
   "cell_type": "code",
   "execution_count": null,
   "metadata": {
    "vscode": {
     "languageId": "java"
    }
   },
   "outputs": [],
   "source": []
  },
  {
   "cell_type": "markdown",
   "metadata": {},
   "source": [
    "### 7.4 Developing Algorithms Using ArrayLists"
   ]
  },
  {
   "cell_type": "code",
   "execution_count": null,
   "metadata": {
    "vscode": {
     "languageId": "java"
    }
   },
   "outputs": [],
   "source": []
  },
  {
   "cell_type": "markdown",
   "metadata": {},
   "source": [
    "### 7.5 Searching"
   ]
  },
  {
   "cell_type": "code",
   "execution_count": null,
   "metadata": {
    "vscode": {
     "languageId": "java"
    }
   },
   "outputs": [],
   "source": []
  },
  {
   "cell_type": "markdown",
   "metadata": {},
   "source": [
    "### 7.6 Sorting"
   ]
  },
  {
   "cell_type": "code",
   "execution_count": null,
   "metadata": {
    "vscode": {
     "languageId": "java"
    }
   },
   "outputs": [],
   "source": []
  },
  {
   "cell_type": "markdown",
   "metadata": {},
   "source": [
    "### 7.7 Ethical Issues Around Data Collection"
   ]
  },
  {
   "cell_type": "code",
   "execution_count": null,
   "metadata": {
    "vscode": {
     "languageId": "java"
    }
   },
   "outputs": [],
   "source": []
  },
  {
   "cell_type": "markdown",
   "metadata": {},
   "source": [
    "### Homework"
   ]
  }
 ],
 "metadata": {
  "kernelspec": {
   "display_name": "Java",
   "language": "java",
   "name": "java"
  },
  "language_info": {
   "codemirror_mode": "java",
   "file_extension": ".jshell",
   "mimetype": "text/x-java-source",
   "name": "Java",
   "pygments_lexer": "java",
   "version": "11.0.16.1+0"
  },
  "orig_nbformat": 4
 },
 "nbformat": 4,
 "nbformat_minor": 2
}
